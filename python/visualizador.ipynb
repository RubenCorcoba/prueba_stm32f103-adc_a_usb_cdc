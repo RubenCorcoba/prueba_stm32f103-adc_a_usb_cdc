{
 "cells": [
  {
   "cell_type": "code",
   "execution_count": 1,
   "metadata": {},
   "outputs": [],
   "source": [
    "#%pip install pyserial"
   ]
  },
  {
   "cell_type": "code",
   "execution_count": 2,
   "metadata": {},
   "outputs": [],
   "source": [
    "import serial"
   ]
  },
  {
   "cell_type": "code",
   "execution_count": 3,
   "metadata": {},
   "outputs": [],
   "source": [
    "import numpy as np\n",
    "import matplotlib.pyplot as plt\n",
    "import scipy\n",
    "import scipy.signal\n",
    "%matplotlib tk"
   ]
  },
  {
   "cell_type": "code",
   "execution_count": 36,
   "metadata": {},
   "outputs": [],
   "source": [
    "fs = 20000"
   ]
  },
  {
   "cell_type": "code",
   "execution_count": 33,
   "metadata": {},
   "outputs": [],
   "source": [
    "def tomaLecturas(puerto:str,cantidad:int,ancho:int=2,orden:str='little'):\n",
    "    def procesaEscape(s:bytes):\n",
    "        def proceso(s:bytes):\n",
    "            i = 0\n",
    "            while i < len(s):\n",
    "                sk = s[i]\n",
    "                match sk:\n",
    "                    case b'\\x0c':\n",
    "                        pass\n",
    "                    case b'\\xdb':\n",
    "                        if i+1 == len(s): break\n",
    "                        i = i+1\n",
    "                        match s[i]:\n",
    "                            case b'\\xdc':\n",
    "                                yield b'\\x0c'\n",
    "                            case b'\\xdd':\n",
    "                                yield b'\\xdb'\n",
    "                            case _:\n",
    "                                break\n",
    "                    case _:\n",
    "                        yield sk\n",
    "                i += 1\n",
    "        return bytes(proceso(s))\n",
    "    def recibeBytes(puerto,cantidad):\n",
    "        separador = b'\\x0c'\n",
    "        def generadorAuxiliar(puerto,cantidad):\n",
    "            with serial.Serial(puerto) as s:\n",
    "                cuenta = 0\n",
    "                datos=s.read_until(separador)\n",
    "                while cuenta < cantidad:\n",
    "                    datos=s.read_until(separador)\n",
    "                    if len(datos)<=1 : datos = s.read_until(separador)\n",
    "                    datos = procesaEscape(datos)\n",
    "                    yield from datos\n",
    "                    cuenta += len(datos)\n",
    "        return bytes(generadorAuxiliar(puerto,cantidad))\n",
    "        \n",
    "    datos = recibeBytes(puerto,cantidad*ancho)\n",
    "    cantidad = len(datos)//ancho\n",
    "    return np.array([ int.from_bytes(datos[ancho*i:ancho*(i+1)],orden,signed=False) for i in range(cantidad)])"
   ]
  },
  {
   "cell_type": "code",
   "execution_count": 41,
   "metadata": {},
   "outputs": [],
   "source": [
    "lecturas = tomaLecturas(\"com24\",fs)"
   ]
  },
  {
   "cell_type": "code",
   "execution_count": null,
   "metadata": {},
   "outputs": [],
   "source": [
    "plt.plot(lecturas)\n"
   ]
  },
  {
   "cell_type": "code",
   "execution_count": null,
   "metadata": {},
   "outputs": [],
   "source": [
    "plt.stem(*scipy.signal.periodogram(lecturas,fs,'hamming'))"
   ]
  },
  {
   "cell_type": "code",
   "execution_count": 16,
   "metadata": {},
   "outputs": [],
   "source": [
    "with serial.Serial(\"com24\") as s:\n",
    "    d = s.read(1024)"
   ]
  },
  {
   "cell_type": "code",
   "execution_count": null,
   "metadata": {},
   "outputs": [],
   "source": [
    "d.find(b'\\x0c\\x0c')"
   ]
  },
  {
   "cell_type": "code",
   "execution_count": null,
   "metadata": {},
   "outputs": [],
   "source": [
    "d[127:].find(b'\\x0c')"
   ]
  },
  {
   "cell_type": "code",
   "execution_count": null,
   "metadata": {},
   "outputs": [],
   "source": [
    "d[126:]"
   ]
  },
  {
   "cell_type": "code",
   "execution_count": null,
   "metadata": {},
   "outputs": [],
   "source": []
  }
 ],
 "metadata": {
  "kernelspec": {
   "display_name": "Python 3",
   "language": "python",
   "name": "python3"
  },
  "language_info": {
   "codemirror_mode": {
    "name": "ipython",
    "version": 3
   },
   "file_extension": ".py",
   "mimetype": "text/x-python",
   "name": "python",
   "nbconvert_exporter": "python",
   "pygments_lexer": "ipython3",
   "version": "3.12.7"
  }
 },
 "nbformat": 4,
 "nbformat_minor": 2
}
