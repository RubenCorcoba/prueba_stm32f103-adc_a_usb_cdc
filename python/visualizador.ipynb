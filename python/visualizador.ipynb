{
 "cells": [
  {
   "cell_type": "code",
   "execution_count": 1,
   "metadata": {},
   "outputs": [],
   "source": [
    "#%pip install pyserial"
   ]
  },
  {
   "cell_type": "code",
   "execution_count": 16,
   "metadata": {},
   "outputs": [],
   "source": [
    "import serial"
   ]
  },
  {
   "cell_type": "code",
   "execution_count": 17,
   "metadata": {},
   "outputs": [],
   "source": [
    "import numpy as np\n",
    "import matplotlib.pyplot as plt\n",
    "import scipy\n",
    "import scipy.signal\n",
    "%matplotlib qt"
   ]
  },
  {
   "cell_type": "code",
   "execution_count": 18,
   "metadata": {},
   "outputs": [],
   "source": [
    "fs = 200000"
   ]
  },
  {
   "cell_type": "code",
   "execution_count": 19,
   "metadata": {},
   "outputs": [],
   "source": [
    "def tomaLecturas(puerto:str,cantidad:int,ancho:int=2,orden:str='little'):\n",
    "    def procesaEscape(s:bytes):\n",
    "        def proceso(s:bytes):\n",
    "            i = 0\n",
    "            while i < len(s):\n",
    "                sk = s[i]\n",
    "                match sk:\n",
    "                    case b'\\x0c':\n",
    "                        pass\n",
    "                    case b'\\xdb':\n",
    "                        if i+1 == len(s): break\n",
    "                        match s[i+1]:\n",
    "                            case b'\\xdc':\n",
    "                                yield b'\\x0c'\n",
    "                            case b'\\xdd':\n",
    "                                yield b'\\xdb'\n",
    "                            case _:\n",
    "                                break\n",
    "                    case _:\n",
    "                        yield sk\n",
    "        return bytes(proceso(s))\n",
    "    def recibeBytes(puerto,cantidad):\n",
    "        separador = b'\\x0c'\n",
    "        def generadorAuxiliar(puerto,cantidad):\n",
    "            with serial.Serial(puerto) as s:\n",
    "                cuenta = 0\n",
    "                s.read_until(separador)\n",
    "                while cuenta < cantidad:\n",
    "                    datos=s.read_until(separador)\n",
    "                    if len(datos)<=1 : datos = s.read_until(separador)\n",
    "                    datos = procesaEscape(datos)\n",
    "                    yield from datos\n",
    "                    cuenta -= len(datos)\n",
    "        return bytes(generadorAuxiliar(puerto,cantidad))\n",
    "        \n",
    "    datos = recibeBytes(puerto,cantidad*ancho)\n",
    "    cantidad = len(datos)//ancho\n",
    "    return np.array([ int.from_bytes(datos[ancho*i:ancho*(i+1)],orden,signed=False) for i in range(cantidad)])"
   ]
  },
  {
   "cell_type": "code",
   "execution_count": 20,
   "metadata": {},
   "outputs": [
    {
     "ename": "KeyboardInterrupt",
     "evalue": "",
     "output_type": "error",
     "traceback": [
      "\u001b[0;31m---------------------------------------------------------------------------\u001b[0m",
      "\u001b[0;31mKeyboardInterrupt\u001b[0m                         Traceback (most recent call last)",
      "Cell \u001b[0;32mIn[20], line 1\u001b[0m\n\u001b[0;32m----> 1\u001b[0m lecturas \u001b[38;5;241m=\u001b[39m \u001b[43mtomaLecturas\u001b[49m\u001b[43m(\u001b[49m\u001b[38;5;124;43m\"\u001b[39;49m\u001b[38;5;124;43m/dev/ttyACM0\u001b[39;49m\u001b[38;5;124;43m\"\u001b[39;49m\u001b[43m,\u001b[49m\u001b[43mfs\u001b[49m\u001b[43m)\u001b[49m\n",
      "Cell \u001b[0;32mIn[19], line 36\u001b[0m, in \u001b[0;36mtomaLecturas\u001b[0;34m(puerto, cantidad, ancho, orden)\u001b[0m\n\u001b[1;32m     33\u001b[0m                 cuenta \u001b[38;5;241m-\u001b[39m\u001b[38;5;241m=\u001b[39m \u001b[38;5;28mlen\u001b[39m(datos)\n\u001b[1;32m     34\u001b[0m     \u001b[38;5;28;01mreturn\u001b[39;00m \u001b[38;5;28mbytes\u001b[39m(generadorAuxiliar(puerto,cantidad))\n\u001b[0;32m---> 36\u001b[0m datos \u001b[38;5;241m=\u001b[39m \u001b[43mrecibeBytes\u001b[49m\u001b[43m(\u001b[49m\u001b[43mpuerto\u001b[49m\u001b[43m,\u001b[49m\u001b[43mcantidad\u001b[49m\u001b[38;5;241;43m*\u001b[39;49m\u001b[43mancho\u001b[49m\u001b[43m)\u001b[49m\n\u001b[1;32m     37\u001b[0m cantidad \u001b[38;5;241m=\u001b[39m \u001b[38;5;28mlen\u001b[39m(datos)\u001b[38;5;241m/\u001b[39m\u001b[38;5;241m/\u001b[39mancho\n\u001b[1;32m     38\u001b[0m \u001b[38;5;28;01mreturn\u001b[39;00m np\u001b[38;5;241m.\u001b[39marray([ \u001b[38;5;28mint\u001b[39m\u001b[38;5;241m.\u001b[39mfrom_bytes(datos[ancho\u001b[38;5;241m*\u001b[39mi:ancho\u001b[38;5;241m*\u001b[39m(i\u001b[38;5;241m+\u001b[39m\u001b[38;5;241m1\u001b[39m)],orden,signed\u001b[38;5;241m=\u001b[39m\u001b[38;5;28;01mFalse\u001b[39;00m) \u001b[38;5;28;01mfor\u001b[39;00m i \u001b[38;5;129;01min\u001b[39;00m \u001b[38;5;28mrange\u001b[39m(cantidad)])\n",
      "Cell \u001b[0;32mIn[19], line 34\u001b[0m, in \u001b[0;36mtomaLecturas.<locals>.recibeBytes\u001b[0;34m(puerto, cantidad)\u001b[0m\n\u001b[1;32m     32\u001b[0m             \u001b[38;5;28;01myield from\u001b[39;00m datos\n\u001b[1;32m     33\u001b[0m             cuenta \u001b[38;5;241m-\u001b[39m\u001b[38;5;241m=\u001b[39m \u001b[38;5;28mlen\u001b[39m(datos)\n\u001b[0;32m---> 34\u001b[0m \u001b[38;5;28;01mreturn\u001b[39;00m \u001b[38;5;28;43mbytes\u001b[39;49m\u001b[43m(\u001b[49m\u001b[43mgeneradorAuxiliar\u001b[49m\u001b[43m(\u001b[49m\u001b[43mpuerto\u001b[49m\u001b[43m,\u001b[49m\u001b[43mcantidad\u001b[49m\u001b[43m)\u001b[49m\u001b[43m)\u001b[49m\n",
      "Cell \u001b[0;32mIn[19], line 31\u001b[0m, in \u001b[0;36mtomaLecturas.<locals>.recibeBytes.<locals>.generadorAuxiliar\u001b[0;34m(puerto, cantidad)\u001b[0m\n\u001b[1;32m     29\u001b[0m datos\u001b[38;5;241m=\u001b[39ms\u001b[38;5;241m.\u001b[39mread_until(separador)\n\u001b[1;32m     30\u001b[0m \u001b[38;5;28;01mif\u001b[39;00m \u001b[38;5;28mlen\u001b[39m(datos)\u001b[38;5;241m<\u001b[39m\u001b[38;5;241m=\u001b[39m\u001b[38;5;241m1\u001b[39m : datos \u001b[38;5;241m=\u001b[39m s\u001b[38;5;241m.\u001b[39mread_until(separador)\n\u001b[0;32m---> 31\u001b[0m datos \u001b[38;5;241m=\u001b[39m \u001b[43mprocesaEscape\u001b[49m\u001b[43m(\u001b[49m\u001b[43mdatos\u001b[49m\u001b[43m)\u001b[49m\n\u001b[1;32m     32\u001b[0m \u001b[38;5;28;01myield from\u001b[39;00m datos\n\u001b[1;32m     33\u001b[0m cuenta \u001b[38;5;241m-\u001b[39m\u001b[38;5;241m=\u001b[39m \u001b[38;5;28mlen\u001b[39m(datos)\n",
      "Cell \u001b[0;32mIn[19], line 21\u001b[0m, in \u001b[0;36mtomaLecturas.<locals>.procesaEscape\u001b[0;34m(s)\u001b[0m\n\u001b[1;32m     19\u001b[0m             \u001b[38;5;28;01mcase\u001b[39;00m\u001b[38;5;250m \u001b[39m\u001b[38;5;28;01m_\u001b[39;00m:\n\u001b[1;32m     20\u001b[0m                 \u001b[38;5;28;01myield\u001b[39;00m sk\n\u001b[0;32m---> 21\u001b[0m \u001b[38;5;28;01mreturn\u001b[39;00m \u001b[38;5;28;43mbytes\u001b[39;49m\u001b[43m(\u001b[49m\u001b[43mproceso\u001b[49m\u001b[43m(\u001b[49m\u001b[43ms\u001b[49m\u001b[43m)\u001b[49m\u001b[43m)\u001b[49m\n",
      "Cell \u001b[0;32mIn[19], line 5\u001b[0m, in \u001b[0;36mtomaLecturas.<locals>.procesaEscape.<locals>.proceso\u001b[0;34m(s)\u001b[0m\n\u001b[1;32m      3\u001b[0m \u001b[38;5;28;01mdef\u001b[39;00m \u001b[38;5;21mproceso\u001b[39m(s:\u001b[38;5;28mbytes\u001b[39m):\n\u001b[1;32m      4\u001b[0m     i \u001b[38;5;241m=\u001b[39m \u001b[38;5;241m0\u001b[39m\n\u001b[0;32m----> 5\u001b[0m     \u001b[38;5;28;01mwhile\u001b[39;00m i \u001b[38;5;241m<\u001b[39m \u001b[38;5;28mlen\u001b[39m(s):\n\u001b[1;32m      6\u001b[0m         sk \u001b[38;5;241m=\u001b[39m s[i]\n\u001b[1;32m      7\u001b[0m         \u001b[38;5;28;01mmatch\u001b[39;00m sk:\n",
      "\u001b[0;31mKeyboardInterrupt\u001b[0m: "
     ]
    }
   ],
   "source": [
    "lecturas = tomaLecturas(\"/dev/ttyACM0\",fs)"
   ]
  },
  {
   "cell_type": "code",
   "execution_count": 14,
   "metadata": {},
   "outputs": [
    {
     "data": {
      "text/plain": [
       "[<matplotlib.lines.Line2D at 0x7e59dc700530>]"
      ]
     },
     "execution_count": 14,
     "metadata": {},
     "output_type": "execute_result"
    }
   ],
   "source": [
    "plt.plot(lecturas)\n"
   ]
  },
  {
   "cell_type": "code",
   "execution_count": 15,
   "metadata": {},
   "outputs": [
    {
     "data": {
      "text/plain": [
       "<StemContainer object of 3 artists>"
      ]
     },
     "execution_count": 15,
     "metadata": {},
     "output_type": "execute_result"
    }
   ],
   "source": [
    "plt.stem(*scipy.signal.periodogram(lecturas,fs,'hamming'))"
   ]
  },
  {
   "cell_type": "code",
   "execution_count": 58,
   "metadata": {},
   "outputs": [],
   "source": [
    "with serial.Serial(\"/dev/ttyACM0\") as s:\n",
    "    d = s.read(1024)"
   ]
  },
  {
   "cell_type": "code",
   "execution_count": 59,
   "metadata": {},
   "outputs": [
    {
     "data": {
      "text/plain": [
       "-1"
      ]
     },
     "execution_count": 59,
     "metadata": {},
     "output_type": "execute_result"
    }
   ],
   "source": [
    "d.find(b'\\x0c\\x0c',511)"
   ]
  },
  {
   "cell_type": "code",
   "execution_count": 62,
   "metadata": {},
   "outputs": [
    {
     "data": {
      "text/plain": [
       "127"
      ]
     },
     "execution_count": 62,
     "metadata": {},
     "output_type": "execute_result"
    }
   ],
   "source": [
    "d[127+127:].find(b'\\x0c')"
   ]
  },
  {
   "cell_type": "code",
   "execution_count": 66,
   "metadata": {},
   "outputs": [
    {
     "data": {
      "text/plain": [
       "b'\\x07\\x0c9\\x08\\xee\\x07\\\\\\x08\\xfc\\x07l\\x08\\x13\\x08\\xce\\x07D\\x08\\xf4\\x07f\\x08\\x00\\x08\\xc4\\x07;\\x08\\xf0\\x07b\\x08\\x05\\x08\\xc2\\x07?\\x08\\xec\\x07^\\x08\\xff\\x07n\\x08\\xdb\\xdc\\x08\\xce\\x07E\\x08\\xef\\x07`\\x08\\xfe\\x07o\\x08\\x11\\x08\\xd0\\x07E\\x08\\xf2\\x07\\\\\\x08\\t\\x08\\xc2\\x07;\\x08\\xf0\\x07_\\x08\\x01\\x08\\xc5\\x07<\\x08\\xea\\x07c\\x08\\x07\\x08\\xc5\\x07<\\x08\\xf3\\x07^\\x08\\x05\\x08\\xc5\\x07@\\x08\\xee\\x07]\\x08\\xff\\x07j\\x08\\x0e\\x08\\xcb\\x07=\\x08\\xf5\\x07a\\x08\\x02\\x08\\xc7\\x07\\x0c>\\x08\\xf2\\x07`\\x08\\x06\\x08\\xc1\\x07<\\x08\\xf1\\x07b\\x08\\x06\\x08\\xc5\\x07>\\x08\\xef\\x07X\\x08\\xff\\x07r\\x08\\x0e\\x08\\xd0\\x07F\\x08\\xf3\\x07^\\x08\\x08\\x08\\xc4\\x07@\\x08\\xe9\\x07X\\x08\\xfd\\x07m\\x08\\x08\\x08\\xc9\\x07A\\x08\\xea\\x07V\\x08\\xff\\x07k\\x08\\xdb\\xdc\\x08\\xcc\\x07>\\x08\\xf5\\x07_\\x08\\x07\\x08\\xc5\\x07C\\x08\\xe9\\x07V\\x08\\x03\\x08\\xbf\\x07>\\x08\\xed\\x07_\\x08\\x02\\x08\\xc0\\x07@\\x08\\xe6\\x07V\\x08\\x00\\x08\\xba\\x07@\\x08\\xef\\x07W\\x08\\x01\\x08\\xc2\\x07;\\x08\\xeb\\x07\\x0c_\\x08\\x02\\x08\\xc3\\x07;\\x08\\xec\\x07\\\\\\x08\\x02\\x08\\xc2\\x07>\\x08\\xf0\\x07X\\x08\\x07\\x08\\xc0\\x07:\\x08\\xeb\\x07[\\x08\\xff\\x07i\\x08\\n\\x08\\xc7\\x07<\\x08\\xeb\\x07V\\x08\\x04\\x08\\xc4\\x07<\\x08\\xeb\\x07Z\\x08\\x03\\x08\\xc0\\x07;\\x08\\xef\\x07T\\x08\\xff\\x07k\\x08\\xdb\\xdc\\x08\\xcb\\x07;\\x08\\xee\\x07\\\\\\x08\\x01\\x08\\xbe\\x07:\\x08\\xee\\x07Z\\x08\\x06\\x08\\xc4\\x07>\\x08\\xed\\x07[\\x08\\xfd\\x07i\\x08\\t\\x08\\xca\\x07@\\x08\\xec\\x07U\\x08\\xfe\\x07g\\x08\\x0b\\x08\\xc7\\x07>\\x08\\xf0\\x07\\x0c^\\x08\\x07\\x08\\xc6\\x07>\\x08\\xed\\x07^\\x08\\xfe\\x07p\\x08\\x0b\\x08\\xc7\\x07D\\x08\\xf0\\x07Z\\x08\\x02\\x08\\xc0\\x07:\\x08\\xeb\\x07V\\x08\\xfd\\x07j\\x08\\x0b\\x08\\xc7\\x07C\\x08\\xe9\\x07V\\x08\\x00\\x08\\xbc\\x07;\\x08\\xeb\\x07Z\\x08\\x00\\x08\\xc1\\x07:\\x08\\xe9\\x07Y\\x08\\xfe\\x07f\\x08\\x08\\x08\\xc6\\x07@\\x08\\xec\\x07W\\x08\\xfc\\x07j\\x08\\x07\\x08\\xc4\\x07A\\x08\\xea\\x07V\\x08\\xfd\\x07f\\x08\\x07\\x08\\xc4\\x07;\\x08\\xea\\x07Z\\x08\\x00\\x08\\xbc\\x07C\\x08\\xec\\x07W\\x08\\xfc\\x07k\\x08\\x0c\\x05\\x08\\xc4\\x07A\\x08\\xeb\\x07Z\\x08\\x01\\x08\\xbc\\x07>\\x08\\xec\\x07Y\\x08\\xff\\x07g\\x08\\xdb\\xdc\\x08\\xc8\\x07C\\x08\\xe8\\x07Z\\x08\\x00\\x08\\xc0\\x076\\x08\\xea\\x07W\\x08\\x00\\x08\\xbf\\x079\\x08\\xeb\\x07Z\\x08\\xfe\\x07g\\x08\\x07\\x08\\xc6\\x07:\\x08\\xef\\x07`\\x08\\x00\\x08\\xc2\\x075\\x08\\xeb\\x07\\\\\\x08\\xfe\\x07i\\x08\\x0e\\x08\\xcc\\x07=\\x08\\xed\\x07_\\x08\\x02\\x08\\xc5\\x07?\\x08\\xef\\x07]\\x08\\x04\\x08\\xc3\\x07>\\x08\\xee\\x07Y\\x08\\x00\\x08\\xbe\\x079\\x08\\xed\\x07[\\x08\\xfe\\x07m\\x08\\x0c\\r\\x08\\xc6\\x07=\\x08\\xf3\\x07^\\x08\\x01\\x08\\xc6\\x07<\\x08\\xf2\\x07c\\x08\\x04\\x08\\xc0\\x07?\\x08\\xf3\\x07d\\x08\\t\\x08\\xc6\\x07>\\x08\\xf3\\x07[\\x08\\x02\\x08\\xc4\\x07@\\x08\\xed\\x07\\\\\\x08\\x04\\x08\\xc0\\x07?\\x08\\xec\\x07\\\\\\x08\\x05\\x08\\xc3\\x07>\\x08\\xf1\\x07^\\x08\\x06\\x08\\xc4\\x07@\\x08\\xe6\\x07Z\\x08\\x00\\x08\\xc0\\x07@\\x08\\xe4\\x07Z\\x08\\x01\\x08\\xc7\\x07:\\x08\\xf0\\x07`\\x08\\x00\\x08\\xc4\\x07@\\x08\\xe7\\x07W\\x08\\xfe\\x07i\\x08\\xdb\\xdc\\x08\\xcb\\x07>\\x08\\xf6\\x07c\\x08\\x06\\x08\\x0c\\xc9\\x07='"
      ]
     },
     "execution_count": 66,
     "metadata": {},
     "output_type": "execute_result"
    }
   ],
   "source": [
    "d[127+125:]"
   ]
  },
  {
   "cell_type": "code",
   "execution_count": null,
   "metadata": {},
   "outputs": [],
   "source": []
  }
 ],
 "metadata": {
  "kernelspec": {
   "display_name": "Python 3",
   "language": "python",
   "name": "python3"
  },
  "language_info": {
   "codemirror_mode": {
    "name": "ipython",
    "version": 3
   },
   "file_extension": ".py",
   "mimetype": "text/x-python",
   "name": "python",
   "nbconvert_exporter": "python",
   "pygments_lexer": "ipython3",
   "version": "3.12.5"
  }
 },
 "nbformat": 4,
 "nbformat_minor": 2
}
